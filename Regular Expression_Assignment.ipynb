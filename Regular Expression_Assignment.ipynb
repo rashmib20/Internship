{
 "cells": [
  {
   "cell_type": "code",
   "execution_count": 1,
   "id": "63954e8d",
   "metadata": {},
   "outputs": [],
   "source": [
    "import pandas as pd\n",
    "import re"
   ]
  },
  {
   "cell_type": "code",
   "execution_count": 2,
   "id": "aa5e30c4",
   "metadata": {},
   "outputs": [
    {
     "name": "stdout",
     "output_type": "stream",
     "text": [
      "Python:Exercises::PHP:exercises:\n"
     ]
    }
   ],
   "source": [
    "#Q1. Write a Python program to replace all occurrences of a space, comma, or dot with a colon.\n",
    "\n",
    "string = 'Python Exercises, PHP exercises.'\n",
    "pattern = '[\\s,\\.]'\n",
    "repl=\":\"\n",
    "result= re.sub(pattern,repl,string)\n",
    "print(result)"
   ]
  },
  {
   "cell_type": "code",
   "execution_count": 3,
   "id": "75cb8bf2",
   "metadata": {},
   "outputs": [
    {
     "name": "stdout",
     "output_type": "stream",
     "text": [
      "['Exercises', 'and', 'exercises', 'algorithm', 'examples']\n"
     ]
    }
   ],
   "source": [
    "#Q2. Write a Python program to find all words starting with 'a' or 'e' in a given string.\n",
    "string = 'Python Exercises and PHP exercises algorithm examples'\n",
    "pat = '[a|e]\\w+'\n",
    "result=re.findall(pat, string, flags=re.I)\n",
    "print(result)"
   ]
  },
  {
   "cell_type": "code",
   "execution_count": 4,
   "id": "c00796b4",
   "metadata": {},
   "outputs": [
    {
     "name": "stdout",
     "output_type": "stream",
     "text": [
      "['Python', 'Exercises', 'exercises', 'algorithm', 'examples']\n"
     ]
    }
   ],
   "source": [
    "#Q3.Create a function in python to find all words that are at least 4 characters long in a string. \n",
    "#The use of the re.compile() method is mandatory.\n",
    "string = 'Python Exercises and PHP exercises algorithm examples'\n",
    "pat = r\"[a-zA-Z]{4,}\"\n",
    "re_pat=re.compile(pat)\n",
    "result=re_pat.findall(string)\n",
    "print(result)"
   ]
  },
  {
   "cell_type": "code",
   "execution_count": 5,
   "id": "577097ce",
   "metadata": {},
   "outputs": [
    {
     "name": "stdout",
     "output_type": "stream",
     "text": [
      "['Python', 'Exercises', 'and', 'PHP', 'exercises', 'algorithm', 'examples']\n"
     ]
    }
   ],
   "source": [
    "#Q4. Create a function in python to find all three, four, and five character words in a string. \n",
    "#The use of the re.compile() method is mandatory.\n",
    "string = 'Python Exercises and PHP exercises algorithm examples'\n",
    "pat = r\"[a-zA-Z]{3,}\"\n",
    "re_pat=re.compile(pat)\n",
    "result=re_pat.findall(string)\n",
    "print(result)"
   ]
  },
  {
   "cell_type": "code",
   "execution_count": 6,
   "id": "f0c61eec",
   "metadata": {},
   "outputs": [
    {
     "name": "stdout",
     "output_type": "stream",
     "text": [
      "example .com\n",
      "hr@fliprobo .com\n",
      "github .com\n",
      "Hello Data Science World\n",
      "Data Scientist\n"
     ]
    }
   ],
   "source": [
    "#Q5.Create a function in Python to remove the parenthesis in a list of strings. The use of the re.compile() method is mandatory.\n",
    "\n",
    "text= [\"example (.com)\", \"hr@fliprobo (.com)\", \"github (.com)\", \"Hello (Data Science World)\", \"Data (Scientist)\"]\n",
    "for item in text:\n",
    "    pat= r'[\\(\\)\\)]'\n",
    "    re_pat=re.compile(pat)\n",
    "    print(re_pat.sub('',item))\n",
    "    "
   ]
  },
  {
   "cell_type": "code",
   "execution_count": 7,
   "id": "9d3c200a",
   "metadata": {},
   "outputs": [
    {
     "name": "stdout",
     "output_type": "stream",
     "text": [
      "[\"example\", \"hr@fliprobo\", \"github\", \"Hello\", \"Data\"]\n"
     ]
    }
   ],
   "source": [
    "#Q6. Write a python program to remove the parenthesis area from the text stored in the text file using Regular Expression.\n",
    "text= [\"example (.com)\", \"hr@fliprobo (.com)\", \"github (.com)\", \"Hello (Data Science World)\", \"Data (Scientist)\"]\n",
    "with open(r\"C:\\Users\\rashm\\Desktop\\Parenthesis_related.txt\") as file:\n",
    "    for line in file:\n",
    "        result = re.sub(\" ?\\([^)]+\\)\",\"\",line)\n",
    "        print(result)\n",
    "        \n"
   ]
  },
  {
   "cell_type": "code",
   "execution_count": 8,
   "id": "196a7394",
   "metadata": {},
   "outputs": [
    {
     "name": "stdout",
     "output_type": "stream",
     "text": [
      "['Importance', 'Of', 'Regular', 'Expressions', 'In', 'Python']\n"
     ]
    }
   ],
   "source": [
    "#Q7. Write a regular expression in Python to split a string into uppercase letters.\n",
    "string = \"ImportanceOfRegularExpressionsInPython\"\n",
    "pat = \"[A-Z][a-z]+\"\n",
    "result = re.findall(pat,string)\n",
    "print(result)"
   ]
  },
  {
   "cell_type": "code",
   "execution_count": 9,
   "id": "64c0905f",
   "metadata": {},
   "outputs": [
    {
     "name": "stdout",
     "output_type": "stream",
     "text": [
      "RegularExpression 1IsAn 2ImportantTopic 3InPython\n"
     ]
    }
   ],
   "source": [
    "#Q8.Create a function in python to insert spaces between words starting with numbers.\n",
    "text= \"RegularExpression1IsAn2ImportantTopic3InPython\"   \n",
    "def num_spaces(string):\n",
    "    return re.sub(r'(\\w)([0-9])',r'\\1 \\2',string)\n",
    "print(num_spaces(text))               \n"
   ]
  },
  {
   "cell_type": "code",
   "execution_count": 10,
   "id": "12036c6e",
   "metadata": {},
   "outputs": [
    {
     "name": "stdout",
     "output_type": "stream",
     "text": [
      "RegularExpression 1 IsAn 2 ImportantTopic 3 InPython\n"
     ]
    }
   ],
   "source": [
    "#Q9.Create a function in python to insert spaces between words starting with capital letters or with numbers.\n",
    "text= \"RegularExpression1IsAn2ImportantTopic3InPython\" \n",
    "result=re.sub(r'(\\w)([0-9])',r'\\1 \\2 ',text)\n",
    "print(result)"
   ]
  },
  {
   "cell_type": "code",
   "execution_count": 11,
   "id": "2c63910d",
   "metadata": {},
   "outputs": [
    {
     "name": "stdout",
     "output_type": "stream",
     "text": [
      "['xyz@domain.com', 'xyz.abc@sdomain.domain.com']\n",
      "['hr@fliprobo.com']\n"
     ]
    }
   ],
   "source": [
    "#Q10.Write a python program to extract email address from the text stored in the text file using Regular Expression.\n",
    "with open(r\"C:\\Users\\rashm\\Desktop\\sample.txt\") as file:\n",
    "    for line in file:\n",
    "        emails=re.findall(\"[a-zA-Z0-9._+-]+@[a-zA-Z0-9.-]+\\.[a-zA-Z]{2,5}\",line)\n",
    "        print(emails)        "
   ]
  },
  {
   "cell_type": "code",
   "execution_count": 12,
   "id": "7a2c177b",
   "metadata": {},
   "outputs": [
    {
     "name": "stdout",
     "output_type": "stream",
     "text": [
      "Python_Ex_1\n"
     ]
    }
   ],
   "source": [
    "#Q11.Write a Python program to match a string that contains only upper and lowercase letters, numbers, and underscores.\n",
    "pat = '[a-zA-Z0-9_]*$'\n",
    "string = 'Python Python-2 Python_Ex_1'\n",
    "match=re.search(pat,string)\n",
    "print(match.group(0))"
   ]
  },
  {
   "cell_type": "code",
   "execution_count": 13,
   "id": "de7aa22d",
   "metadata": {},
   "outputs": [
    {
     "name": "stdout",
     "output_type": "stream",
     "text": [
      "2python\n"
     ]
    }
   ],
   "source": [
    "#Q12.Write a Python program where a string will start with a specific number.\n",
    "pat = '[2]\\w+'\n",
    "string = 'Python 2python 3python'\n",
    "match=re.search(pat,string)\n",
    "print(match.group(0))"
   ]
  },
  {
   "cell_type": "code",
   "execution_count": 14,
   "id": "add120b4",
   "metadata": {},
   "outputs": [
    {
     "name": "stdout",
     "output_type": "stream",
     "text": [
      "234.5.82.176\n"
     ]
    }
   ],
   "source": [
    "#Q13.Write a Python program to remove leading zeros from an IP address\n",
    "ip_adds = \"234.05.082.176\"\n",
    "result_ip=re.sub('\\.[0]*','.',ip_adds)\n",
    "print(result_ip)"
   ]
  },
  {
   "cell_type": "code",
   "execution_count": 15,
   "id": "66732948",
   "metadata": {},
   "outputs": [
    {
     "name": "stdout",
     "output_type": "stream",
     "text": [
      "['August 15th 1947']\n"
     ]
    }
   ],
   "source": [
    "#Q14.Write a regular expression in python to match a date string in the form of Month name followed by day number and year stored in a text file.\n",
    "with open(r\"C:\\Users\\rashm\\Desktop\\date_sample.txt\") as file:\n",
    "    for line in file:\n",
    "        dates=re.findall(\"[A-za-z]{4,}\\s\\d{2}th\\s\\d{4}\",line)\n",
    "        print(dates)"
   ]
  },
  {
   "cell_type": "code",
   "execution_count": 16,
   "id": "4c5e637f",
   "metadata": {},
   "outputs": [
    {
     "name": "stdout",
     "output_type": "stream",
     "text": [
      "['fox']\n",
      "['dog']\n",
      "[]\n"
     ]
    }
   ],
   "source": [
    "#Q15. Write a Python program to search some literals strings in a string. \n",
    "string = \"The quick brown fox jumps over the lazy dog.\"\n",
    "pat = ['fox','dog','horse']\n",
    "for pattern in pat:\n",
    "    matches=re.findall(pattern,string)\n",
    "    print(matches)"
   ]
  },
  {
   "cell_type": "code",
   "execution_count": 17,
   "id": "05726dff",
   "metadata": {},
   "outputs": [
    {
     "name": "stdout",
     "output_type": "stream",
     "text": [
      "fox\n",
      "Index position is: 16\n"
     ]
    }
   ],
   "source": [
    "#Q16. Write a Python program to search a literals string in a string and also find the location within the original string where the pattern occurs\n",
    "string = \"The quick brown fox jumps over the lazy dog.\"\n",
    "pat = ['fox']\n",
    "for pattern in pat:\n",
    "    matches=re.search(pattern,string)\n",
    "    print(matches.group())\n",
    "    print(\"Index position is:\",matches.start())"
   ]
  },
  {
   "cell_type": "code",
   "execution_count": 18,
   "id": "888b7600",
   "metadata": {},
   "outputs": [
    {
     "data": {
      "text/plain": [
       "['exercises', 'exercises', 'exercises']"
      ]
     },
     "execution_count": 18,
     "metadata": {},
     "output_type": "execute_result"
    }
   ],
   "source": [
    "#Q17. Write a Python program to find the substrings within a string.\n",
    "string = \"Python exercises, PHP exercises, C# exercises\"\n",
    "match=re.findall(\"exercises\",string)\n",
    "match\n",
    "       "
   ]
  },
  {
   "cell_type": "code",
   "execution_count": 19,
   "id": "9e77eb74",
   "metadata": {},
   "outputs": [
    {
     "name": "stdout",
     "output_type": "stream",
     "text": [
      "exercises\n",
      "Position of searched pattern: (7, 16) \n",
      "\n",
      "exercises\n",
      "Position of searched pattern: (22, 31) \n",
      "\n",
      "exercises\n",
      "Position of searched pattern: (36, 45) \n",
      "\n"
     ]
    }
   ],
   "source": [
    "#Q18. Write a Python program to find the occurrence and position of the substrings within a string.\n",
    "string = \"Python exercises, PHP exercises, C# exercises\"\n",
    "result=re.finditer('exercises',string)\n",
    "for match in result:\n",
    "    print(match.group())\n",
    "    print(\"Position of searched pattern:\",match.span(),\"\\n\")\n"
   ]
  },
  {
   "cell_type": "code",
   "execution_count": 20,
   "id": "e944e886",
   "metadata": {},
   "outputs": [
    {
     "name": "stdout",
     "output_type": "stream",
     "text": [
      "Original date in yyyy-mm-dd format: 2023-08-06\n",
      "New date in dd-mm-yyyy format: 06-08-2023\n"
     ]
    }
   ],
   "source": [
    "#Q19.Write a Python program to convert a date of yyyy-mm-dd format to dd-mm-yyyy format.\n",
    "def date(dt):\n",
    "    return re.sub(r'(\\d{4})-(\\d{2})-(\\d{2})','\\\\3-\\\\2-\\\\1',dt)\n",
    "dt1=\"2023-08-06\"\n",
    "print(\"Original date in yyyy-mm-dd format:\",dt1)\n",
    "print(\"New date in dd-mm-yyyy format:\",date(dt1))\n"
   ]
  },
  {
   "cell_type": "code",
   "execution_count": 21,
   "id": "80f23194",
   "metadata": {},
   "outputs": [
    {
     "name": "stdout",
     "output_type": "stream",
     "text": [
      "['132.20 ', '5.2 ', '10.12 ']\n"
     ]
    }
   ],
   "source": [
    "#Q20.Create a function in python to find all decimal numbers with a precision of 1 or 2 in a string.\n",
    "#The use of the re.compile() method is mandatory.\n",
    "def decimal(num):\n",
    "        dnum=re.compile(\"(\\d{1,}\\.\\d{1,2} )\")\n",
    "        result=dnum.findall(num)\n",
    "        return(result)\n",
    "string = 'ram 12.567 132.20 5.2 10.12 1g.e32'\n",
    "print(decimal(string))"
   ]
  },
  {
   "cell_type": "code",
   "execution_count": 22,
   "id": "38f64a91",
   "metadata": {},
   "outputs": [
    {
     "name": "stdout",
     "output_type": "stream",
     "text": [
      "100\n",
      "Index position: 14\n",
      "50\n",
      "Index position: 27\n"
     ]
    }
   ],
   "source": [
    "#Q21. Write a Python program to separate and print the numbers and their position of a given string.\n",
    "string = \"In a class of 100 students 50 are present\"\n",
    "for m in re.finditer(\"\\d+\",string):\n",
    "    print(m.group(0))\n",
    "    print(\"Index position:\",m.start())"
   ]
  },
  {
   "cell_type": "code",
   "execution_count": 23,
   "id": "552834d6",
   "metadata": {},
   "outputs": [
    {
     "name": "stdout",
     "output_type": "stream",
     "text": [
      "Max value: 950\n"
     ]
    }
   ],
   "source": [
    "#Q22. Write a regular expression in python program to extract maximum/largest numeric value from a string.\n",
    "string = 'My marks in each semester are: 947, 896, 926, 524, 734, 950, 642'\n",
    "num = re.findall('\\d+',string)\n",
    "print(\"Max value:\",max(num))\n",
    " "
   ]
  },
  {
   "cell_type": "code",
   "execution_count": 24,
   "id": "307d34cf",
   "metadata": {},
   "outputs": [
    {
     "name": "stdout",
     "output_type": "stream",
     "text": [
      "Regular Expression Is An Important Topic In Python\n"
     ]
    }
   ],
   "source": [
    "#Q23. Create a function in python to insert spaces between words starting with capital letters.\n",
    "text = 'RegularExpressionIsAnImportantTopicInPython'\n",
    "def spaces(string):\n",
    "    return re.sub(r'(\\w)([A-Z])',r'\\1 \\2',string)\n",
    "print(spaces(text))\n"
   ]
  },
  {
   "cell_type": "code",
   "execution_count": 25,
   "id": "abb6aa9b",
   "metadata": {},
   "outputs": [
    {
     "name": "stdout",
     "output_type": "stream",
     "text": [
      "['Regular', 'Python', 'Xpression', 'Is', 'An', 'Impo', 'Rtant', 'Topic', 'In', 'Python']\n"
     ]
    }
   ],
   "source": [
    "#Q24. Python regex to find sequences of one upper case letter followed by lower case letters.\n",
    "text= \"Regular Python EXpression Is An ImpoRtant Topic In Python\"\n",
    "pat = \"[A-Z][a-z]+\"\n",
    "match = re.findall(pat,text)\n",
    "print(match)"
   ]
  },
  {
   "cell_type": "code",
   "execution_count": 26,
   "id": "f20d4cd8",
   "metadata": {},
   "outputs": [
    {
     "name": "stdout",
     "output_type": "stream",
     "text": [
      "Hello hello world\n"
     ]
    }
   ],
   "source": [
    "#Q25.Write a Python program to remove continuous duplicate words from Sentence using Regular Expression.\n",
    "string = \"Hello hello world world\"\n",
    "pat = r'\\b(\\w+)( \\1\\b)+'\n",
    "new_string = re.sub(pat, r'\\1', string)\n",
    "print(new_string)"
   ]
  },
  {
   "cell_type": "code",
   "execution_count": 28,
   "id": "04cb5e1f",
   "metadata": {},
   "outputs": [
    {
     "name": "stdout",
     "output_type": "stream",
     "text": [
      "Accept\n",
      "None\n",
      "Not Accept\n",
      "None\n"
     ]
    }
   ],
   "source": [
    "#Q26. Write a python program using RegEx to accept string ending with alphanumeric character.\n",
    "\n",
    "def alpha_char(string):\n",
    "    pat = '[A-Za-z0-9]$'\n",
    "    if (re.search(pat,string)):\n",
    "        print(\"Accept\")\n",
    "    else:\n",
    "        print(\"Not Accept\")\n",
    "        \n",
    "string_1='python123'\n",
    "print(alpha_char(string_1))\n",
    "string_2='python#'\n",
    "print(alpha_char(string_2))\n",
    " "
   ]
  },
  {
   "cell_type": "code",
   "execution_count": 29,
   "id": "ae1315db",
   "metadata": {},
   "outputs": [
    {
     "name": "stdout",
     "output_type": "stream",
     "text": [
      "['#Doltiwal', '#xyzabc', '#Demonetization']\n"
     ]
    }
   ],
   "source": [
    "#Q27.Write a python program using RegEx to extract the hashtags.\n",
    "string=\"\"\"RT @kapil_kausik: #Doltiwal I mean #xyzabc is \"hurt\" by #Demonetization as the same has rendered USELESS <ed><U+00A0><U+00BD><ed><U+00B1><U+0089> \"acquired funds\" No wo\"\"\"\n",
    "pat = '#\\w+'\n",
    "result = re.findall(pat,string)\n",
    "print(result)"
   ]
  },
  {
   "cell_type": "code",
   "execution_count": 30,
   "id": "1e44b902",
   "metadata": {},
   "outputs": [
    {
     "name": "stdout",
     "output_type": "stream",
     "text": [
      "@Jags123456 Bharat band on 28??<ed><ed>Those who  are protesting #demonetization  are all different party leaders\n"
     ]
    }
   ],
   "source": [
    "#Q28. Write a python program using RegEx to remove <U+..> like symbols\n",
    "string1 = \"@Jags123456 Bharat band on 28??<ed><U+00A0><U+00BD><ed><U+00B8><U+0082>Those who  are protesting #demonetization  are all different party leaders\"\n",
    "pat = r'<U\\+\\w+>'\n",
    "new_string = re.sub(pat,'',string1)\n",
    "print(new_string)"
   ]
  },
  {
   "cell_type": "code",
   "execution_count": 31,
   "id": "cb3227c0",
   "metadata": {},
   "outputs": [
    {
     "name": "stdout",
     "output_type": "stream",
     "text": [
      "['12-09-1992', '15-12-1999']\n"
     ]
    }
   ],
   "source": [
    "#Q29. Write a python program to extract dates from the text stored in the text file.\n",
    "#Sample Text: Ron was born on 12-09-1992 and he was admitted to school 15-12-1999.\n",
    "with open(r\"C:\\Users\\rashm\\Desktop\\date_sample2.txt\") as file:\n",
    "    for line in file:\n",
    "        dates1=re.findall(r\"\\d{2}\\-\\d{2}-\\d{4}\",line)\n",
    "        print(dates1)"
   ]
  },
  {
   "cell_type": "code",
   "execution_count": 32,
   "id": "e8f1fce5",
   "metadata": {},
   "outputs": [
    {
     "name": "stdout",
     "output_type": "stream",
     "text": [
      " following example creates ArrayList a capacity elements. 4 elements added ArrayList ArrayList trimmed accordingly.\n"
     ]
    }
   ],
   "source": [
    "#Q30. Create a function in python to remove all words from a string of length between 2 and 4.\n",
    "#The use of the re.compile() method is mandatory.\n",
    "\n",
    "str1 = \"The following example creates an ArrayList with a capacity of 50 elements. 4 elements are then added to the ArrayList and the ArrayList is trimmed accordingly.\"\n",
    "pattern = r'\\W*\\b(\\w{2,4})\\b'\n",
    "regex_pat = re.compile(pattern)\n",
    "result = regex_pat.sub(\"\",str1)\n",
    "print(result)"
   ]
  },
  {
   "cell_type": "code",
   "execution_count": null,
   "id": "be0a6f19",
   "metadata": {},
   "outputs": [],
   "source": []
  },
  {
   "cell_type": "code",
   "execution_count": null,
   "id": "8b980a1f",
   "metadata": {},
   "outputs": [],
   "source": []
  }
 ],
 "metadata": {
  "kernelspec": {
   "display_name": "Python 3 (ipykernel)",
   "language": "python",
   "name": "python3"
  },
  "language_info": {
   "codemirror_mode": {
    "name": "ipython",
    "version": 3
   },
   "file_extension": ".py",
   "mimetype": "text/x-python",
   "name": "python",
   "nbconvert_exporter": "python",
   "pygments_lexer": "ipython3",
   "version": "3.9.13"
  }
 },
 "nbformat": 4,
 "nbformat_minor": 5
}
