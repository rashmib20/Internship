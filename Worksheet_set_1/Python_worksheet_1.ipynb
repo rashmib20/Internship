{
 "cells": [
  {
   "cell_type": "code",
   "execution_count": 2,
   "id": "5956a7a8-97ae-4745-9aeb-a0045b8ec4ed",
   "metadata": {},
   "outputs": [],
   "source": [
    "#Q11 to Q15 are programming questions. Answer them in Jupyter Notebook"
   ]
  },
  {
   "cell_type": "code",
   "execution_count": 3,
   "id": "fd68250a-9ed1-4d82-8297-3a6a0d26a14d",
   "metadata": {},
   "outputs": [
    {
     "name": "stdout",
     "output_type": "stream",
     "text": [
      "Enter a number:4\n",
      "The factorial of 4 is: 24\n"
     ]
    }
   ],
   "source": [
    "#11. Write a python program to find the factorial of a number\n",
    "num = int(input(\"Enter a number:\")) \n",
    "\n",
    "fact = 1\n",
    "if num < 0:\n",
    "    print(\"factorial not exist\")\n",
    "elif num == 0:\n",
    "    print(\"The factorial of 0 is 1\")\n",
    "else:\n",
    "    for i in range(1, num+1):  \n",
    "        fact = fact * i\n",
    "    print(\"The factorial of\",num,\"is:\",fact)\n"
   ]
  },
  {
   "cell_type": "code",
   "execution_count": 4,
   "id": "bdd3f2c5",
   "metadata": {
    "scrolled": true
   },
   "outputs": [
    {
     "name": "stdout",
     "output_type": "stream",
     "text": [
      "Enter a number:3\n",
      "3 is a prime number\n"
     ]
    }
   ],
   "source": [
    "#12.Write a python program to find whether a number is prime or composite.\n",
    "num = int(input(\"Enter a number:\"))\n",
    "if num > 1:\n",
    "    for i in range(2, num):\n",
    "        if(num % i) == 0:\n",
    "            print(num,\"is not a prime number but composite number\")\n",
    "            break\n",
    "    else:\n",
    "        print(num, \"is a prime number\")\n",
    "elif num == 0 or 1:\n",
    "    print(num, \"is neither prime nor composite\")\n"
   ]
  },
  {
   "cell_type": "code",
   "execution_count": 5,
   "id": "c8e3431a",
   "metadata": {},
   "outputs": [
    {
     "name": "stdout",
     "output_type": "stream",
     "text": [
      "Enter string: abcba\n",
      "The string is Palindrome\n"
     ]
    }
   ],
   "source": [
    "#Q13.Write a python program to check whether a given string is palindrome or not.\n",
    "string = input(\"Enter string: \")\n",
    "if (string == string[::-1]):\n",
    "    print(\"The string is Palindrome\")\n",
    "else:\n",
    "    print(\"The string is not a Palindrome\")\n",
    "    "
   ]
  },
  {
   "cell_type": "code",
   "execution_count": 6,
   "id": "dbaf1d3a",
   "metadata": {},
   "outputs": [
    {
     "name": "stdout",
     "output_type": "stream",
     "text": [
      "Input lengths of two sides\n",
      "a: 4\n",
      "b: 6\n",
      "The length of the third side is: 7.21\n"
     ]
    }
   ],
   "source": [
    "#Q14.Write a Python program to get the third side of right-angled triangle from two given sides.\n",
    "from math import sqrt\n",
    "print(\"Input lengths of two sides\")\n",
    "a = float(input(\"a: \"))\n",
    "b = float(input(\"b: \"))\n",
    "c = sqrt(a**2 + b**2)\n",
    "print(\"The length of the third side is:\",round(c,2))"
   ]
  },
  {
   "cell_type": "code",
   "execution_count": 7,
   "id": "ba59a183",
   "metadata": {},
   "outputs": [
    {
     "name": "stdout",
     "output_type": "stream",
     "text": [
      "Enter a string: class\n",
      "{'c': 1, 'l': 1, 'a': 1, 's': 2}\n"
     ]
    }
   ],
   "source": [
    "#Q15. Write a python program to print the frequency of each of the characters present in a given string.\n",
    "string = input(\"Enter a string: \")\n",
    "d = {}\n",
    "for char in string:\n",
    "    if char in d:\n",
    "        d[char] = d[char]+1\n",
    "    else:\n",
    "        d[char] = 1\n",
    "print(d)"
   ]
  },
  {
   "cell_type": "code",
   "execution_count": null,
   "id": "00699f8c",
   "metadata": {},
   "outputs": [],
   "source": []
  }
 ],
 "metadata": {
  "kernelspec": {
   "display_name": "Python 3 (ipykernel)",
   "language": "python",
   "name": "python3"
  },
  "language_info": {
   "codemirror_mode": {
    "name": "ipython",
    "version": 3
   },
   "file_extension": ".py",
   "mimetype": "text/x-python",
   "name": "python",
   "nbconvert_exporter": "python",
   "pygments_lexer": "ipython3",
   "version": "3.9.13"
  }
 },
 "nbformat": 4,
 "nbformat_minor": 5
}
